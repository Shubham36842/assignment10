{
 "cells": [
  {
   "cell_type": "raw",
   "id": "87548580-dfdc-4a47-b73f-def24a7b088d",
   "metadata": {},
   "source": [
    "Q1. What is Statistics?\n"
   ]
  },
  {
   "cell_type": "raw",
   "id": "bf8b0d15-fc56-47f3-a6a1-bdf943bbe0b1",
   "metadata": {},
   "source": [
    "Ans:-\n",
    "Statistics is the science concerned with developing and studying methods for collecting, analyzing, interpreting and presenting empirical data.Statistics is the discipline that concerns the collection, organization, analysis, interpretation, and presentation of data. "
   ]
  },
  {
   "cell_type": "raw",
   "id": "29da2e1d-bf88-4198-a78f-608c3859d9dd",
   "metadata": {},
   "source": [
    "Q2. Define the different types of statistics and give an example of when each type might be used.\n"
   ]
  },
  {
   "cell_type": "raw",
   "id": "407f0bb0-4cea-4554-8ce1-6b0ae4bcfccd",
   "metadata": {},
   "source": [
    "Ans:-\n",
    "The two main branches of statistics are:\n",
    "Descriptive Statistics – Through graphs or tables, or numerical calculations, descriptive statistics uses the data to provide descriptions of the population.Example- mean ,medain mode varience, standard daviation. For example, one may ask a sample of 100 people if they like shopping at a particular mall(for example Cosmos Shopping Mall). After the sample is collected, we could make a barchart of yes or no answers (that would be descriptive statistics) or one could use our research(and inferential statistics) to conclude whether majority of the people like shopping at theCosmos. \n",
    "\n",
    "Inferential Statistics – Based on the data sample taken from the population, inferential statistics makes the predictions and inferences.Example:-chi-square test, z-test, f- test.\n",
    "For example: We have marks of 1000 students and we may be interested in the overall performance of those students and the distribution as well as the spread of marks. Descriptive statistics provides us the tools to define our data in a most understandable and appropriate way."
   ]
  },
  {
   "cell_type": "raw",
   "id": "66f2f04b-70bf-4ef5-947e-9a18e6db04e0",
   "metadata": {},
   "source": [
    "Q3. What are the different types of data and how do they differ from each other? Provide an example of each type of data."
   ]
  },
  {
   "cell_type": "raw",
   "id": "dc604b90-db55-4c1a-a381-94bb1fef5a18",
   "metadata": {},
   "source": [
    "Ans:-There are mainly two types of data:\n",
    "1. Numerical data- collection of data that contain numerical vaule in it.For example the age of person is always numerical data.it is further consist of two types\n",
    "a.Discrete data\n",
    "b.coutinues data\n",
    "\n",
    "2.categorical data- data that does not contain numerical value .it is described using string.\n",
    "For example-gender data ia always either male or female category. it also consist of two types of data\n",
    "a. nominal data\n",
    "b.ordinal data"
   ]
  },
  {
   "cell_type": "raw",
   "id": "a9a8a6d2-72af-4f30-bb5d-08842aeb134f",
   "metadata": {},
   "source": [
    "Q4. Categorise the following datasets with respect to quantitative and qualitative data types:\n",
    "\n",
    "(i) Grading in exam: A+, A, B+, B, C+, C, D, E\n",
    "\n",
    "(ii) Colour of mangoes: yellow, green, orange, red\n",
    "\n",
    "(iii) Height data of a class: [178.9, 179, 179.5, 176, 177.2, 178.3, 175.8,...]\n",
    "\n",
    "(iv) Number of mangoes exported by a farm: [500, 600, 478, 672, …]"
   ]
  },
  {
   "cell_type": "raw",
   "id": "600c514a-7bdd-4238-8381-e7566f255735",
   "metadata": {},
   "source": [
    "Ans:-\n",
    "i.qualitataive data\n",
    "ii.qualtitative data\n",
    "iii.quantitative data\n",
    "iv.quantitative data"
   ]
  },
  {
   "cell_type": "raw",
   "id": "e1d3feda-42ff-4ccf-a06e-29a86604d1f3",
   "metadata": {},
   "source": [
    "Q5. Explain the concept of levels of measurement and give an example of a variable for each level.\n"
   ]
  },
  {
   "cell_type": "raw",
   "id": "b505c192-515b-4301-9c2f-d89936452d8d",
   "metadata": {},
   "source": [
    "Ans:-\n",
    "The four different levels of measurement are:\n",
    "1.Nominal-The first level of measurement is nominal level of measurement.  In this level of measurement, the numbers in the variable are used only to classify the data.  In this level of measurement, words, letters, and alpha-numeric symbols can be used. The person belonging to the female gender could be classified as F, the person belonging to the male gender could be classified as M, and transgendered classified as T.  This type of assigning classification is nominal level of measurement.\n",
    "\n",
    "2.ordinal-The second level of measurement is the ordinal level of measurement.  This level of measurement depicts some ordered relationship among the variable’s observations.  Suppose a student scores the highest grade of 100 in the class.  In this case, he would be assigned the first rank.  Then, another classmate scores the second highest grade of an 92; she would be assigned the second rank.  A third student scores a 81 and he would be assigned the third rank, and so on.   The ordinal level of measurement indicates an ordering of the measurements.\n",
    "\n",
    "3.Interval-The third level of measurement is the interval level of measurement.  The interval level of measurement not only classifies and orders the measurements, but it also specifies that the distances between each interval on the scale are equivalent along the scale from low interval to high interval.  For example, an interval level of measurement could be the measurement of anxiety in a student between the score of 10 and 11, this interval is the same as that of a student who scores between 40 and 41.   A popular example of this level of measurement is temperature in centigrade, where, for example, the distance between 940C and 960C is the same as the distance between 1000C and 1020C.\n",
    "\n",
    "4.Ratio-The fourth level of measurement is the ratio level of measurement.  In this level of measurement, the observations, in addition to having equal intervals, can have a value of zero as well.  The zero in the scale makes this type of measurement unlike the other types of measurement, although the properties are similar to that of the interval level of measurement.  In the ratio level of measurement, the divisions between the points on the scale have an equivalent distance between them.\n",
    "\n"
   ]
  },
  {
   "cell_type": "raw",
   "id": "cc6695e8-0ad3-4159-b184-141494a46c47",
   "metadata": {},
   "source": [
    "Q6. Why is it important to understand the level of measurement when analyzing data? Provide an example to illustrate your answer.\n"
   ]
  },
  {
   "cell_type": "raw",
   "id": "0af7f89c-90e2-4b61-bbe1-68332942c806",
   "metadata": {},
   "source": [
    "Ans:-The level at which you measure a variable determines how you can analyze your data. Depending on the level of measurement, you can perform different descriptive statistics to get an overall summary of your data and inferential statistics to see if your results support or refute your hypothesis.\n",
    "\n",
    "The classic example of the interval scale is temperature measured on the Fahrenheit or Celsius scales. Let's suppose today's high temperature is 60º F and thirty days ago the high temperature was only 30º F. We can say that the difference between the high temperatures on these two days is 30 degrees."
   ]
  },
  {
   "cell_type": "raw",
   "id": "d88d773e-9f2d-4b7a-9c87-d78ba3759cab",
   "metadata": {},
   "source": [
    "Q7. How nominal data type is different from ordinal data type.\n"
   ]
  },
  {
   "cell_type": "raw",
   "id": "6ca82a0c-d611-48c6-9db5-abcd820387c6",
   "metadata": {},
   "source": [
    "Ans:-Nominal and ordinal both are quantitative data but ordinal data types have rank associated with it while Nominal does not have.\n",
    "Example - Gender is Nominal data type while rating of person can be good,common, bad which is ordinal data type"
   ]
  },
  {
   "cell_type": "raw",
   "id": "d0989d3f-a280-40da-b014-35c9b72a5f96",
   "metadata": {},
   "source": [
    "Q8. Which type of plot can be used to display data in terms of range?\n"
   ]
  },
  {
   "cell_type": "raw",
   "id": "f58ef2a2-fb0e-4463-ac63-e62e3a5656e3",
   "metadata": {},
   "source": [
    "Ans:-Boxplots display data ranges for groups within a dataset. In boxplots, it equals the entire length of the whiskers for each group. The minimum and maximum values appear at the ends of the whiskers except when there are outliers."
   ]
  },
  {
   "cell_type": "raw",
   "id": "4b938c41-85e8-4677-8410-434ed573e9e1",
   "metadata": {},
   "source": [
    "Q9. Describe the difference between descriptive and inferential statistics. Give an example of each type of statistics and explain how they are used.\n"
   ]
  },
  {
   "cell_type": "raw",
   "id": "fb78764b-52b5-497e-b7a7-13da197b7e31",
   "metadata": {},
   "source": [
    "Ans:-descriptive statistics state facts and proven outcomes from a population, whereas inferential statistics analyze samplings to make predictions about larger populations.\n",
    "\n",
    "Descriptive statistics is about how we illustrate the current data set whereas inferential stats focus on making an assumption about the extra population which is more than the state of data that is under study. Descriptive Statistics provides a summary of the data that the\n",
    "researcher has studied. Inferential Statistics, however, makes a generalization which is on the data that you have not studied actually. These are the differences between descriptive and inferential statistics.\n",
    "\n",
    "Descritive Statistics example-For example, one may ask a sample of 100 people if they like shopping at a particular mall(for example Cosmos Shopping Mall). After the sample is collected, we could make a bar chart of yes or no answers (that would be descriptive statistics) or one could use our research (and inferential statistics) to conclude whether majority of the people like shopping at the Cosmos. \n",
    "\n",
    "infrential Statistics-For example: Suppose we are interested in the exam marks of all the students in India. But it is not feasible to measure the exam marks of all the students in India. So now we will measure the marks of a smaller sample of students, for example 1000 students. This sample will now represent the large population of Indian students. "
   ]
  },
  {
   "cell_type": "raw",
   "id": "cbf936b6-5a65-40d7-84ec-8612d767fec6",
   "metadata": {},
   "source": [
    "Q10. What are some common measures of central tendency and variability used in statistics? Explain how each measure can be used to describe a dataset."
   ]
  },
  {
   "cell_type": "raw",
   "id": "ee985cc5-3a40-4245-ac28-a9705b5715f2",
   "metadata": {},
   "source": [
    "Ans:-The three commonly used measures of central tendency are the mean, median, and mode. \n",
    "mean- tells what is the average value of data\n",
    "median - it is same as mean but used when outliers are present\n",
    "mode- frequency of data element.\n",
    "variability are:\n",
    "varience- square of standar daviation\n",
    "standard daviation-tells how data is daviating from mean value\n",
    "range- difference between highest value and lowest value"
   ]
  },
  {
   "cell_type": "code",
   "execution_count": 3,
   "id": "ea8ed860-78c0-44fe-b69d-9f1f012ccc47",
   "metadata": {},
   "outputs": [
    {
     "data": {
      "text/html": [
       "<div>\n",
       "<style scoped>\n",
       "    .dataframe tbody tr th:only-of-type {\n",
       "        vertical-align: middle;\n",
       "    }\n",
       "\n",
       "    .dataframe tbody tr th {\n",
       "        vertical-align: top;\n",
       "    }\n",
       "\n",
       "    .dataframe thead th {\n",
       "        text-align: right;\n",
       "    }\n",
       "</style>\n",
       "<table border=\"1\" class=\"dataframe\">\n",
       "  <thead>\n",
       "    <tr style=\"text-align: right;\">\n",
       "      <th></th>\n",
       "      <th>year</th>\n",
       "      <th>month</th>\n",
       "      <th>passengers</th>\n",
       "    </tr>\n",
       "  </thead>\n",
       "  <tbody>\n",
       "    <tr>\n",
       "      <th>0</th>\n",
       "      <td>1949</td>\n",
       "      <td>Jan</td>\n",
       "      <td>112</td>\n",
       "    </tr>\n",
       "    <tr>\n",
       "      <th>1</th>\n",
       "      <td>1949</td>\n",
       "      <td>Feb</td>\n",
       "      <td>118</td>\n",
       "    </tr>\n",
       "    <tr>\n",
       "      <th>2</th>\n",
       "      <td>1949</td>\n",
       "      <td>Mar</td>\n",
       "      <td>132</td>\n",
       "    </tr>\n",
       "    <tr>\n",
       "      <th>3</th>\n",
       "      <td>1949</td>\n",
       "      <td>Apr</td>\n",
       "      <td>129</td>\n",
       "    </tr>\n",
       "    <tr>\n",
       "      <th>4</th>\n",
       "      <td>1949</td>\n",
       "      <td>May</td>\n",
       "      <td>121</td>\n",
       "    </tr>\n",
       "  </tbody>\n",
       "</table>\n",
       "</div>"
      ],
      "text/plain": [
       "   year month  passengers\n",
       "0  1949   Jan         112\n",
       "1  1949   Feb         118\n",
       "2  1949   Mar         132\n",
       "3  1949   Apr         129\n",
       "4  1949   May         121"
      ]
     },
     "execution_count": 3,
     "metadata": {},
     "output_type": "execute_result"
    }
   ],
   "source": [
    "import numpy as np\n",
    "import seaborn as sb\n",
    "df=sb.load_dataset('flights')\n",
    "df.head()"
   ]
  },
  {
   "cell_type": "code",
   "execution_count": 4,
   "id": "5e5ec3a6-13d4-4c1e-b71e-4ca5510717ae",
   "metadata": {},
   "outputs": [
    {
     "data": {
      "text/plain": [
       "280.2986111111111"
      ]
     },
     "execution_count": 4,
     "metadata": {},
     "output_type": "execute_result"
    }
   ],
   "source": [
    "df['passengers'].mean()"
   ]
  },
  {
   "cell_type": "code",
   "execution_count": 5,
   "id": "13bbeb38-c847-4350-a9d3-a1260ee54566",
   "metadata": {},
   "outputs": [
    {
     "data": {
      "text/plain": [
       "265.5"
      ]
     },
     "execution_count": 5,
     "metadata": {},
     "output_type": "execute_result"
    }
   ],
   "source": [
    "df['passengers'].median()\n"
   ]
  },
  {
   "cell_type": "code",
   "execution_count": 6,
   "id": "4d000922-164f-491f-8110-dac36d0bcff5",
   "metadata": {},
   "outputs": [
    {
     "data": {
      "text/plain": [
       "0    229\n",
       "Name: passengers, dtype: int64"
      ]
     },
     "execution_count": 6,
     "metadata": {},
     "output_type": "execute_result"
    }
   ],
   "source": [
    "df['passengers'].mode()"
   ]
  },
  {
   "cell_type": "code",
   "execution_count": 9,
   "id": "b73ef23f-1065-45a3-a541-5b540e2891b7",
   "metadata": {},
   "outputs": [
    {
     "data": {
      "text/plain": [
       "14391.917200854701"
      ]
     },
     "execution_count": 9,
     "metadata": {},
     "output_type": "execute_result"
    }
   ],
   "source": [
    "df['passengers'].var()"
   ]
  },
  {
   "cell_type": "code",
   "execution_count": 10,
   "id": "c3bf436b-3bcd-45c3-aaf3-6415cc8a79f5",
   "metadata": {},
   "outputs": [
    {
     "data": {
      "text/plain": [
       "119.96631694294321"
      ]
     },
     "execution_count": 10,
     "metadata": {},
     "output_type": "execute_result"
    }
   ],
   "source": [
    "df['passengers'].std()"
   ]
  },
  {
   "cell_type": "code",
   "execution_count": null,
   "id": "341b2bb5-d214-4ada-bc72-ae52ec47fcef",
   "metadata": {},
   "outputs": [],
   "source": []
  }
 ],
 "metadata": {
  "kernelspec": {
   "display_name": "Python 3 (ipykernel)",
   "language": "python",
   "name": "python3"
  },
  "language_info": {
   "codemirror_mode": {
    "name": "ipython",
    "version": 3
   },
   "file_extension": ".py",
   "mimetype": "text/x-python",
   "name": "python",
   "nbconvert_exporter": "python",
   "pygments_lexer": "ipython3",
   "version": "3.10.8"
  }
 },
 "nbformat": 4,
 "nbformat_minor": 5
}
