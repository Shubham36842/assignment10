{
 "cells": [
  {
   "cell_type": "raw",
   "id": "989e6f42-0b91-495b-bda6-c58fe00b2864",
   "metadata": {},
   "source": [
    "Q1. What are the three measures of central tendency?\n"
   ]
  },
  {
   "cell_type": "raw",
   "id": "02b3e9de-8ecb-4465-beda-1aec434de9d3",
   "metadata": {},
   "source": [
    "Ans:-The three measures of central tendency are:-\n",
    "1.mean\n",
    "2.median\n",
    "3.mode"
   ]
  },
  {
   "cell_type": "raw",
   "id": "d51859d2-c574-43cb-89b4-d09370307cad",
   "metadata": {},
   "source": [
    "Q2. What is the difference between the mean, median, and mode? How are they used to measure the central tendency of a dataset?\n"
   ]
  },
  {
   "cell_type": "raw",
   "id": "7a1a62ea-20dc-48a5-af2e-4c66b9743f52",
   "metadata": {},
   "source": [
    "Ans:-\n",
    "mean- defines the average of dataset(total sum of element devided by total number of element)\n",
    "      example-A={2,4,5,2,4,6,7,8}\n",
    "              mean=(2+4+5+2+4+6+7+8)/8\n",
    "                  =4.75\n",
    "                  \n",
    "meadian- median is used when there is outlier in the data \n",
    "        example-A={5,9,20,25,30,100}\n",
    "                median=20+45/2\n",
    "                      = 22.5\n",
    "                      \n",
    " mode- defines frequency of a element in the dataset\n",
    "       example-A={1,2,1,4,3,12,2,3}\n",
    "             frequency of 1=2\n",
    "             "
   ]
  },
  {
   "cell_type": "raw",
   "id": "6677da3d-eeda-42e9-b5af-819132eceb89",
   "metadata": {},
   "source": [
    "Q3. Measure the three measures of central tendency for the given height data:\n",
    "\n",
    "[178,177,176,177,178.2,178,175,179,180,175,178.9,176.2,177,172.5,178,176.5]\n"
   ]
  },
  {
   "cell_type": "code",
   "execution_count": 11,
   "id": "4cc5b3a2-d945-445d-84d5-159e0f2f9097",
   "metadata": {},
   "outputs": [
    {
     "data": {
      "text/html": [
       "<div>\n",
       "<style scoped>\n",
       "    .dataframe tbody tr th:only-of-type {\n",
       "        vertical-align: middle;\n",
       "    }\n",
       "\n",
       "    .dataframe tbody tr th {\n",
       "        vertical-align: top;\n",
       "    }\n",
       "\n",
       "    .dataframe thead th {\n",
       "        text-align: right;\n",
       "    }\n",
       "</style>\n",
       "<table border=\"1\" class=\"dataframe\">\n",
       "  <thead>\n",
       "    <tr style=\"text-align: right;\">\n",
       "      <th></th>\n",
       "      <th>data</th>\n",
       "    </tr>\n",
       "  </thead>\n",
       "  <tbody>\n",
       "    <tr>\n",
       "      <th>0</th>\n",
       "      <td>178.0</td>\n",
       "    </tr>\n",
       "    <tr>\n",
       "      <th>1</th>\n",
       "      <td>177.0</td>\n",
       "    </tr>\n",
       "    <tr>\n",
       "      <th>2</th>\n",
       "      <td>176.0</td>\n",
       "    </tr>\n",
       "    <tr>\n",
       "      <th>3</th>\n",
       "      <td>177.0</td>\n",
       "    </tr>\n",
       "    <tr>\n",
       "      <th>4</th>\n",
       "      <td>178.2</td>\n",
       "    </tr>\n",
       "  </tbody>\n",
       "</table>\n",
       "</div>"
      ],
      "text/plain": [
       "    data\n",
       "0  178.0\n",
       "1  177.0\n",
       "2  176.0\n",
       "3  177.0\n",
       "4  178.2"
      ]
     },
     "execution_count": 11,
     "metadata": {},
     "output_type": "execute_result"
    }
   ],
   "source": [
    "import pandas as pd\n",
    "df=pd.DataFrame([178,177,176,177,178.2,178,175,179,180,175,178.9,176.2,177,172.5,178,176.5],columns=[\"data\"])\n",
    "df.head()"
   ]
  },
  {
   "cell_type": "code",
   "execution_count": 48,
   "id": "d61923b4-f4cc-4311-b954-bfe640d33a43",
   "metadata": {},
   "outputs": [],
   "source": [
    "df1=pd.DataFrame([df.mean()[0],df.median()[0],df.mode()],index=[\"mean\",'median','mode'],columns=['data'])"
   ]
  },
  {
   "cell_type": "code",
   "execution_count": 49,
   "id": "ee995039-4f65-4e89-b00c-9f6441a028e5",
   "metadata": {},
   "outputs": [
    {
     "data": {
      "text/html": [
       "<div>\n",
       "<style scoped>\n",
       "    .dataframe tbody tr th:only-of-type {\n",
       "        vertical-align: middle;\n",
       "    }\n",
       "\n",
       "    .dataframe tbody tr th {\n",
       "        vertical-align: top;\n",
       "    }\n",
       "\n",
       "    .dataframe thead th {\n",
       "        text-align: right;\n",
       "    }\n",
       "</style>\n",
       "<table border=\"1\" class=\"dataframe\">\n",
       "  <thead>\n",
       "    <tr style=\"text-align: right;\">\n",
       "      <th></th>\n",
       "      <th>data</th>\n",
       "    </tr>\n",
       "  </thead>\n",
       "  <tbody>\n",
       "    <tr>\n",
       "      <th>mean</th>\n",
       "      <td>177.01875</td>\n",
       "    </tr>\n",
       "    <tr>\n",
       "      <th>median</th>\n",
       "      <td>177.0</td>\n",
       "    </tr>\n",
       "    <tr>\n",
       "      <th>mode</th>\n",
       "      <td>data\n",
       "0  177.0\n",
       "1  178.0</td>\n",
       "    </tr>\n",
       "  </tbody>\n",
       "</table>\n",
       "</div>"
      ],
      "text/plain": [
       "                              data\n",
       "mean                     177.01875\n",
       "median                       177.0\n",
       "mode        data\n",
       "0  177.0\n",
       "1  178.0"
      ]
     },
     "execution_count": 49,
     "metadata": {},
     "output_type": "execute_result"
    }
   ],
   "source": [
    "df1"
   ]
  },
  {
   "cell_type": "raw",
   "id": "bf41e09f-5abb-40e7-b1ea-87596dd7a90f",
   "metadata": {},
   "source": [
    "Q4. Find the standard deviation for the given data:\n",
    "\n",
    "[178,177,176,177,178.2,178,175,179,180,175,178.9,176.2,177,172.5,178,176.5]\n"
   ]
  },
  {
   "cell_type": "code",
   "execution_count": 19,
   "id": "39c8728c-8c40-4429-8d44-0b93ad9edae0",
   "metadata": {},
   "outputs": [
    {
     "data": {
      "text/plain": [
       "data    1.847239\n",
       "dtype: float64"
      ]
     },
     "execution_count": 19,
     "metadata": {},
     "output_type": "execute_result"
    }
   ],
   "source": [
    "df.std()"
   ]
  },
  {
   "cell_type": "raw",
   "id": "1e0fc2d4-3111-4912-b294-d111fcd42b64",
   "metadata": {},
   "source": [
    "Q5. How are measures of dispersion such as range, variance, and standard deviation used to describe the spread of a dataset? Provide an example.\n"
   ]
  },
  {
   "cell_type": "raw",
   "id": "f59245a5-81bf-4f59-a3ae-ecc7a888e57c",
   "metadata": {},
   "source": [
    "Ans:-\n",
    "range- defines minimum value and maximum value that a dataset can have.The range is the               easiest dispersion of data or measure of variability. The range can measure by               subtracting the lowest value from the massive Number. The wide range indicates high           variability, and the small range specifies low variability in the distribution.\n",
    "                \n",
    "standard daviation-Standard deviation is a squared root of the variance to get original                          values. Low standard deviation indicates data points close to mean.\n",
    "    \n",
    "\n",
    "varience- square of standard daviation.Variance is a simple measure of dispersion. Variance             measures how far each number in the dataset from the mean.\n",
    "\n",
    "Example- given data=[10,20,30,40]\n",
    "               mean=(10+20+30+40)/2\n",
    "                   =25\n",
    "                std={(10-25)+(20-25)+(30-25)+(40-25)}^2/4\n",
    "                   =0\n",
    "                 var=std^2=0  "
   ]
  },
  {
   "cell_type": "raw",
   "id": "c4510369-57c0-4826-8ecb-992515b45503",
   "metadata": {},
   "source": [
    "Q6. What is a Venn diagram?\n"
   ]
  },
  {
   "cell_type": "raw",
   "id": "fb25808a-8b05-4ecf-8915-3947e90d9619",
   "metadata": {},
   "source": [
    "Ans:-Venn diagrams are the diagrams that are used to represent the sets, relation between the      sets and operation performed on them, in a pictorial way. A Venn diagram is also called      a set diagram or a logic diagram showing different set operations such as the                intersection of sets, union of sets and difference of sets."
   ]
  },
  {
   "cell_type": "raw",
   "id": "3a197015-248a-4290-90c3-373164f078f6",
   "metadata": {},
   "source": [
    "Q7. For the two given sets A = (2,3,4,5,6,7) & B = (0,2,6,8,10). Find:\n",
    "\n",
    "(i) A∩B\n",
    "\n",
    "(ii) A⋃B\n"
   ]
  },
  {
   "cell_type": "code",
   "execution_count": 26,
   "id": "e30571db-5ae0-4802-818c-7f343112d161",
   "metadata": {},
   "outputs": [
    {
     "name": "stdout",
     "output_type": "stream",
     "text": [
      "A∩B: {2, 6}\n",
      "AUB: {0, 2, 3, 4, 5, 6, 7, 8, 10}\n"
     ]
    }
   ],
   "source": [
    "A={2,3,4,5,6,7}\n",
    "B={0,2,6,8,10}\n",
    "print(\"A∩B:\",A.intersection(B))\n",
    "print(\"AUB:\",A.union(B))"
   ]
  },
  {
   "cell_type": "raw",
   "id": "2280bca3-76ed-4cb9-9726-1cf024dd38fd",
   "metadata": {},
   "source": [
    "Q8. What do you understand about skewness in data?\n"
   ]
  },
  {
   "cell_type": "raw",
   "id": "8726511a-858c-46a8-8029-95f8da9c81b8",
   "metadata": {},
   "source": [
    "Ans:Skewness is a measurement of the distortion of symmetrical distribution or asymmetry in a     data set. Skewness is demonstrated on a bell curve when data points are not distributed       symmetrically to the left and right sides of the median on a bell curve.\n",
    "    \n",
    "    The formula  Skewness = 3 * (Mean – Median) / Standard Deviation. "
   ]
  },
  {
   "cell_type": "raw",
   "id": "99ce298c-8115-4715-b412-1fd69f51ee38",
   "metadata": {},
   "source": [
    "Q9. If a data is right skewed then what will be the position of median with respect to mean?\n"
   ]
  },
  {
   "cell_type": "raw",
   "id": "096e4cf7-c6e3-4c07-9fd4-f9908233bd0e",
   "metadata": {},
   "source": [
    "Ans:mean>median\n",
    "    median is left to mean"
   ]
  },
  {
   "cell_type": "raw",
   "id": "15aa8ffa-df41-4796-a984-264c31af1f4e",
   "metadata": {},
   "source": [
    "Q10. Explain the difference between covariance and correlation. How are these measures used in statistical analysis?\n"
   ]
  },
  {
   "cell_type": "raw",
   "id": "ec4eaa08-8275-4a19-ade3-9576a7b007f7",
   "metadata": {},
   "source": [
    "Ans:-Covariance is an indicator of the extent to which 2 random variables are dependent on        each other. A higher number denotes higher dependency. \n",
    "    Correlation is a statistical measure that indicates how strongly two variables are           related. The value of covariance lies in the range of -∞ and +∞\n",
    "    \n",
    "    These parameters are used for feature selection in statistical data"
   ]
  },
  {
   "cell_type": "raw",
   "id": "c38b8855-2f5d-45fd-9bed-1a8453c6e611",
   "metadata": {},
   "source": [
    "Q11. What is the formula for calculating the sample mean? Provide an example calculation for a dataset.\n"
   ]
  },
  {
   "cell_type": "raw",
   "id": "df75b345-fd70-4f80-bb53-86e0548388e1",
   "metadata": {},
   "source": [
    "Ans:- sample mean(x̄) = ( Σ Xi ) ÷ n.\n",
    "     Example- Dataset=[4,6,3,8,6,9]\n",
    "               (x̄)=(4+6+3+8+6+9)/2\n",
    "                  =18"
   ]
  },
  {
   "cell_type": "raw",
   "id": "a27df3ef-dd31-46dc-91f5-596d54f96599",
   "metadata": {},
   "source": [
    "Q12. For a normal distribution data what is the relationship between its measure of central tendency?\n"
   ]
  },
  {
   "cell_type": "raw",
   "id": "d634d360-4ea0-4b5f-81bb-c8c6c641e9ed",
   "metadata": {},
   "source": [
    "Ans:Normal distribution data make bell shaped curve\n",
    "    mean=median=mode"
   ]
  },
  {
   "cell_type": "raw",
   "id": "b5afaa40-10f6-4973-9154-e96463cc0496",
   "metadata": {},
   "source": [
    "Q13. How is covariance different from correlation?\n"
   ]
  },
  {
   "cell_type": "raw",
   "id": "2e89e5f6-63e0-427a-9c20-b39b1d1fc67f",
   "metadata": {},
   "source": [
    "Ans:-Covarince can be infinite value while correlation always be a finite value.\n",
    "     Covariance is an indicator of the extent to which 2 random variables are dependent on        each other. A higher number denotes higher dependency. \n",
    "    Correlation is a statistical measure that indicates how strongly two variables are           related. The value of covariance lies in the range of -∞ and +∞\n"
   ]
  },
  {
   "cell_type": "raw",
   "id": "059705ed-b00f-4b86-bd1b-d4b83ff09073",
   "metadata": {},
   "source": [
    "Q14. How do outliers affect measures of central tendency and dispersion? Provide an example."
   ]
  },
  {
   "cell_type": "code",
   "execution_count": 27,
   "id": "269da52c-1a47-47f6-884d-cdfcd8c85efd",
   "metadata": {},
   "outputs": [],
   "source": [
    "import pandas as pd\n",
    "#dataset without outlier\n",
    "DS=pd.DataFrame([2,4,6,3,5,8,7],columns=['data'])\n",
    "#dataset with outlier 100\n",
    "DS1=pd.DataFrame([2,4,6,3,5,8,100])\n"
   ]
  },
  {
   "cell_type": "code",
   "execution_count": 44,
   "id": "124fb3dd-be26-4f59-a497-1e63fcdb8713",
   "metadata": {},
   "outputs": [],
   "source": [
    "Ds3=pd.DataFrame([[DS.mean()[0],DS1.mean()[0]],[DS.median()[0],DS1.median()[0]],[DS.std()[0],DS1.std()[0]],[DS.var()[0],DS1.var()[0]]],columns=[\"value without outlier\",'value with outlier'],index=['mean','median','standard Daviation','Varience'])"
   ]
  },
  {
   "cell_type": "code",
   "execution_count": 45,
   "id": "6a06b16c-1afb-4b61-b79a-8a0ccb777309",
   "metadata": {},
   "outputs": [
    {
     "data": {
      "text/html": [
       "<div>\n",
       "<style scoped>\n",
       "    .dataframe tbody tr th:only-of-type {\n",
       "        vertical-align: middle;\n",
       "    }\n",
       "\n",
       "    .dataframe tbody tr th {\n",
       "        vertical-align: top;\n",
       "    }\n",
       "\n",
       "    .dataframe thead th {\n",
       "        text-align: right;\n",
       "    }\n",
       "</style>\n",
       "<table border=\"1\" class=\"dataframe\">\n",
       "  <thead>\n",
       "    <tr style=\"text-align: right;\">\n",
       "      <th></th>\n",
       "      <th>value without outlier</th>\n",
       "      <th>value with outlier</th>\n",
       "    </tr>\n",
       "  </thead>\n",
       "  <tbody>\n",
       "    <tr>\n",
       "      <th>mean</th>\n",
       "      <td>5.000000</td>\n",
       "      <td>18.285714</td>\n",
       "    </tr>\n",
       "    <tr>\n",
       "      <th>median</th>\n",
       "      <td>5.000000</td>\n",
       "      <td>5.000000</td>\n",
       "    </tr>\n",
       "    <tr>\n",
       "      <th>standard Daviation</th>\n",
       "      <td>2.160247</td>\n",
       "      <td>36.086536</td>\n",
       "    </tr>\n",
       "    <tr>\n",
       "      <th>Varience</th>\n",
       "      <td>4.666667</td>\n",
       "      <td>1302.238095</td>\n",
       "    </tr>\n",
       "  </tbody>\n",
       "</table>\n",
       "</div>"
      ],
      "text/plain": [
       "                    value without outlier  value with outlier\n",
       "mean                             5.000000           18.285714\n",
       "median                           5.000000            5.000000\n",
       "standard Daviation               2.160247           36.086536\n",
       "Varience                         4.666667         1302.238095"
      ]
     },
     "execution_count": 45,
     "metadata": {},
     "output_type": "execute_result"
    }
   ],
   "source": [
    "Ds3"
   ]
  }
 ],
 "metadata": {
  "kernelspec": {
   "display_name": "Python 3 (ipykernel)",
   "language": "python",
   "name": "python3"
  },
  "language_info": {
   "codemirror_mode": {
    "name": "ipython",
    "version": 3
   },
   "file_extension": ".py",
   "mimetype": "text/x-python",
   "name": "python",
   "nbconvert_exporter": "python",
   "pygments_lexer": "ipython3",
   "version": "3.10.8"
  }
 },
 "nbformat": 4,
 "nbformat_minor": 5
}
